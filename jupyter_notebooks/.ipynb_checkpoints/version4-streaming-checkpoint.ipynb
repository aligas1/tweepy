{
 "cells": [
  {
   "cell_type": "markdown",
   "metadata": {},
   "source": [
    "start zookeeper and kafka server\n",
    "- zookeeper-server-start.sh \\\\$KAFKA_HOME/config/zookeeper.properties\n",
    "- kafka-server-start.sh \\\\$KAFKA_HOME/config/server.properties\n",
    "\n",
    "creat topic and list zookeeper topics\n",
    "- kafka-topics.sh --create --zookeeper localhost:2181 --replication-factor 1 --partitions 1 --topic covid_v1\n",
    "- kafka-topics.sh --list --zookeeper localhost:2181\n",
    "- kafka-topics.sh --describe --zookeeper localhost:2181 --topic covid_v1\n",
    "\n",
    "start console consumer\n",
    "- kafka-console-consumer.sh --bootstrap-server localhost:9092 --topic covid_v1 --from-beginning"
   ]
  },
  {
   "cell_type": "code",
   "execution_count": null,
   "metadata": {},
   "outputs": [],
   "source": [
    "from tweepy.streaming import StreamListener\n",
    "from tweepy import OAuthHandler\n",
    "from tweepy import Stream\n",
    "\n",
    "from pykafka import KafkaClient\n",
    "import json\n",
    "\n",
    "import twitter_credentials"
   ]
  },
  {
   "cell_type": "code",
   "execution_count": null,
   "metadata": {},
   "outputs": [],
   "source": [
    "class TwitterAuthenticator():\n",
    "    \n",
    "    # class to authenticate tweets \n",
    "    # auth method returns credentials \n",
    "    \n",
    "    def auth(self):\n",
    "        auth = OAuthHandler(twitter_credentials.CONSUMER_KEY, twitter_credentials.CONSUMER_SECRET)\n",
    "        auth.set_access_token(twitter_credentials.ACCESS_TOKEN, twitter_credentials.ACCESS_TOKEN_SECRET)\n",
    "        return auth\n",
    "        "
   ]
  },
  {
   "cell_type": "markdown",
   "metadata": {},
   "source": [
    "# NOTE\n",
    "### An event listener is a procedure or function in a computer program that waits for an event to occur. ... The listener is programmed to react to an input or signal by calling the event's handler. The term event listener is often specific to Java and JavaScript."
   ]
  },
  {
   "cell_type": "code",
   "execution_count": null,
   "metadata": {},
   "outputs": [],
   "source": [
    "# class that inherits from Tweepys StreamListener class\n",
    "# StreamListener provides methods like we can override like on_data\n",
    "\n",
    "# USE LISTENER TO SEND MESSAGE TO KAFKA BROKER \n",
    "\n",
    "class TwitterListener(StreamListener):\n",
    "    \n",
    "    # create constructor aka def __init__(self)\n",
    "    # tweets_filer is a TwitterListener object thats associated to where the tweets are being written\n",
    "    # since we are writing to Kafka might want to write to hdfs\n",
    "    \n",
    "    def __init__(self, tweets_file):\n",
    "        \n",
    "        # a class variable self.x = x \n",
    "        self.tweets_file = tweets_file\n",
    "\n",
    "    # on_data method reads tweets stream\n",
    "    def on_data(self, data):\n",
    "        try:\n",
    "            #### DO WHAT YOU WANT WITH THE DATA >:) SEND TO KAFKA PRODUCER HERE \n",
    "            producer.produce(str(data).encode('utf-8'))\n",
    "            print(type(data))\n",
    "            \n",
    "            # writes tweets to file, a means appends\n",
    "            with open(self.tweets_file, 'a') as tf:\n",
    "                tf.write(data)\n",
    "            return True\n",
    "        except BaseException as e:\n",
    "            print(\"Error on_data %s\" % str(e))\n",
    "        return True\n",
    "    \n",
    "    def on_error(self, status):\n",
    "        if status == 420:\n",
    "            # returns False if rates limit occurs \n",
    "            return False\n",
    "        print(status)\n"
   ]
  },
  {
   "cell_type": "code",
   "execution_count": null,
   "metadata": {},
   "outputs": [],
   "source": [
    "class TwitterStreamer():\n",
    "    # class for processing streams \n",
    "    # aka filter the tweets by hashtag\n",
    "    \n",
    "    def __init__(self):\n",
    "        self.twitter_auth = TwitterAuthenticator()\n",
    "    \n",
    "    def stream_tweets(self, tweets_file, hash_tags):\n",
    "        \n",
    "        listener = TwitterListener(tweets_file)\n",
    "        auth = self.twitter_auth.auth()\n",
    "        stream = Stream(auth, listener)\n",
    "        stream.filter(track = hash_tags)"
   ]
  },
  {
   "cell_type": "code",
   "execution_count": null,
   "metadata": {
    "scrolled": true
   },
   "outputs": [],
   "source": [
    "if __name__ == \"__main__\":\n",
    "    \n",
    "    client = KafkaClient(hosts=\"localhost:9092\")\n",
    "    topic = client.topics['covid_v1']\n",
    "    producer = topic.get_sync_producer()\n",
    "    \n",
    "    hash_tags = [\"covid19\", \"corona\"]\n",
    "    tweets_file = \"tweets_trial1.json\"\n",
    "    \n",
    "    # define an instance of TwitterStream class\n",
    "    streamer = TwitterStreamer()\n",
    "    \n",
    "    # call method stream_tweets, pass filename and path, and hash_tags to filter \n",
    "    streamer.stream_tweets(tweets_file, hash_tags)"
   ]
  },
  {
   "cell_type": "code",
   "execution_count": null,
   "metadata": {},
   "outputs": [],
   "source": []
  },
  {
   "cell_type": "code",
   "execution_count": null,
   "metadata": {},
   "outputs": [],
   "source": []
  },
  {
   "cell_type": "code",
   "execution_count": null,
   "metadata": {},
   "outputs": [],
   "source": []
  },
  {
   "cell_type": "code",
   "execution_count": null,
   "metadata": {},
   "outputs": [],
   "source": []
  }
 ],
 "metadata": {
  "kernelspec": {
   "display_name": "Python 3",
   "language": "python",
   "name": "python3"
  },
  "language_info": {
   "codemirror_mode": {
    "name": "ipython",
    "version": 3
   },
   "file_extension": ".py",
   "mimetype": "text/x-python",
   "name": "python",
   "nbconvert_exporter": "python",
   "pygments_lexer": "ipython3",
   "version": "3.6.9"
  }
 },
 "nbformat": 4,
 "nbformat_minor": 2
}
