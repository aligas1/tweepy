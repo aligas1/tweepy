{
 "cells": [
  {
   "cell_type": "code",
   "execution_count": 1,
   "metadata": {},
   "outputs": [],
   "source": [
    "import tweepy\n",
    "import twitter_credentials"
   ]
  },
  {
   "cell_type": "code",
   "execution_count": 2,
   "metadata": {},
   "outputs": [],
   "source": [
    "auth = tweepy.OAuthHandler(twitter_credentials.CONSUMER_KEY, twitter_credentials.CONSUMER_SECRET)\n",
    "auth.set_access_token(twitter_credentials.ACCESS_TOKEN, twitter_credentials.ACCESS_TOKEN_SECRET)"
   ]
  },
  {
   "cell_type": "code",
   "execution_count": 3,
   "metadata": {},
   "outputs": [],
   "source": [
    "api = tweepy.API(auth, parser=tweepy.parsers.JSONParser())"
   ]
  },
  {
   "cell_type": "code",
   "execution_count": 4,
   "metadata": {},
   "outputs": [],
   "source": [
    "results = api.search(q=\"covid19\", count=1, tweet_mode=\"extended\", lang=\"en\")"
   ]
  },
  {
   "cell_type": "code",
   "execution_count": 5,
   "metadata": {},
   "outputs": [
    {
     "data": {
      "text/plain": [
       "dict_keys(['statuses', 'search_metadata'])"
      ]
     },
     "execution_count": 5,
     "metadata": {},
     "output_type": "execute_result"
    }
   ],
   "source": [
    "results.keys()"
   ]
  },
  {
   "cell_type": "code",
   "execution_count": 7,
   "metadata": {},
   "outputs": [
    {
     "data": {
      "text/plain": [
       "{'search_metadata': {'completed_in': 0.036,\n",
       "  'count': 1,\n",
       "  'max_id': 1258055293998641152,\n",
       "  'max_id_str': '1258055293998641152',\n",
       "  'next_results': '?max_id=1258055293998641151&q=covid19&lang=en&count=1&include_entities=1',\n",
       "  'query': 'covid19',\n",
       "  'refresh_url': '?since_id=1258055293998641152&q=covid19&lang=en&include_entities=1',\n",
       "  'since_id': 0,\n",
       "  'since_id_str': '0'},\n",
       " 'statuses': [{'contributors': None,\n",
       "   'coordinates': None,\n",
       "   'created_at': 'Wed May 06 15:25:30 +0000 2020',\n",
       "   'display_text_range': [0, 141],\n",
       "   'entities': {'hashtags': [{'indices': [35, 42], 'text': 'Report'},\n",
       "     {'indices': [53, 64], 'text': 'Imperative'},\n",
       "     {'indices': [70, 76], 'text': 'China'},\n",
       "     {'indices': [77, 86], 'text': 'BanYulin'},\n",
       "     {'indices': [94, 110], 'text': 'DogCatMeatTrade'},\n",
       "     {'indices': [117, 128], 'text': 'WetMarkets'}],\n",
       "    'symbols': [],\n",
       "    'urls': [],\n",
       "    'user_mentions': [{'id': 997850973266587648,\n",
       "      'id_str': '997850973266587648',\n",
       "      'indices': [3, 19],\n",
       "      'name': 'Friends4AnimalJustice',\n",
       "      'screen_name': 'MaryJoe38642126'},\n",
       "     {'id': 238080747,\n",
       "      'id_str': '238080747',\n",
       "      'indices': [22, 33],\n",
       "      'name': 'Sputnik France',\n",
       "      'screen_name': 'sputnik_fr'}]},\n",
       "   'favorite_count': 0,\n",
       "   'favorited': False,\n",
       "   'full_text': 'RT @MaryJoe38642126: .@sputnik_fr\\n\\n#Report SVP: It’s #Imperative That #China #BanYulin (6/21) #DogCatMeatTrade &amp; #WetMarkets Permanently…',\n",
       "   'geo': None,\n",
       "   'id': 1258055293998641152,\n",
       "   'id_str': '1258055293998641152',\n",
       "   'in_reply_to_screen_name': None,\n",
       "   'in_reply_to_status_id': None,\n",
       "   'in_reply_to_status_id_str': None,\n",
       "   'in_reply_to_user_id': None,\n",
       "   'in_reply_to_user_id_str': None,\n",
       "   'is_quote_status': False,\n",
       "   'lang': 'en',\n",
       "   'metadata': {'iso_language_code': 'en', 'result_type': 'recent'},\n",
       "   'place': None,\n",
       "   'retweet_count': 38,\n",
       "   'retweeted': False,\n",
       "   'retweeted_status': {'contributors': None,\n",
       "    'coordinates': None,\n",
       "    'created_at': 'Sun May 03 00:31:01 +0000 2020',\n",
       "    'display_text_range': [0, 287],\n",
       "    'entities': {'hashtags': [{'indices': [14, 21], 'text': 'Report'},\n",
       "      {'indices': [32, 43], 'text': 'Imperative'},\n",
       "      {'indices': [49, 55], 'text': 'China'},\n",
       "      {'indices': [56, 65], 'text': 'BanYulin'},\n",
       "      {'indices': [73, 89], 'text': 'DogCatMeatTrade'},\n",
       "      {'indices': [96, 107], 'text': 'WetMarkets'},\n",
       "      {'indices': [122, 130], 'text': 'Healthy'},\n",
       "      {'indices': [137, 142], 'text': 'Sick'},\n",
       "      {'indices': [143, 148], 'text': 'Cats'},\n",
       "      {'indices': [149, 154], 'text': 'Dogs'},\n",
       "      {'indices': [159, 167], 'text': 'Crowded'},\n",
       "      {'indices': [181, 191], 'text': 'Transport'},\n",
       "      {'indices': [196, 207], 'text': 'Unsanitary'},\n",
       "      {'indices': [213, 223], 'text': 'Slaughter'},\n",
       "      {'indices': [226, 241], 'text': 'BreedingGround'},\n",
       "      {'indices': [246, 253], 'text': 'Rabies'},\n",
       "      {'indices': [254, 262], 'text': 'Covid19'}],\n",
       "     'media': [{'display_url': 'pic.twitter.com/OzelKGjnWN',\n",
       "       'expanded_url': 'https://twitter.com/sputnik_fr/status/882981994321371137/video/1',\n",
       "       'id': 882981608525099008,\n",
       "       'id_str': '882981608525099008',\n",
       "       'indices': [264, 287],\n",
       "       'media_url': 'http://pbs.twimg.com/ext_tw_video_thumb/882981608525099008/pu/img/C7C12gbF2N7GRRzu.jpg',\n",
       "       'media_url_https': 'https://pbs.twimg.com/ext_tw_video_thumb/882981608525099008/pu/img/C7C12gbF2N7GRRzu.jpg',\n",
       "       'sizes': {'large': {'h': 720, 'resize': 'fit', 'w': 1280},\n",
       "        'medium': {'h': 675, 'resize': 'fit', 'w': 1200},\n",
       "        'small': {'h': 383, 'resize': 'fit', 'w': 680},\n",
       "        'thumb': {'h': 150, 'resize': 'crop', 'w': 150}},\n",
       "       'source_status_id': 882981994321371137,\n",
       "       'source_status_id_str': '882981994321371137',\n",
       "       'source_user_id': 238080747,\n",
       "       'source_user_id_str': '238080747',\n",
       "       'type': 'photo',\n",
       "       'url': 'https://t.co/OzelKGjnWN'}],\n",
       "     'symbols': [],\n",
       "     'urls': [],\n",
       "     'user_mentions': [{'id': 238080747,\n",
       "       'id_str': '238080747',\n",
       "       'indices': [1, 12],\n",
       "       'name': 'Sputnik France',\n",
       "       'screen_name': 'sputnik_fr'}]},\n",
       "    'extended_entities': {'media': [{'additional_media_info': {'monetizable': False},\n",
       "       'display_url': 'pic.twitter.com/OzelKGjnWN',\n",
       "       'expanded_url': 'https://twitter.com/sputnik_fr/status/882981994321371137/video/1',\n",
       "       'id': 882981608525099008,\n",
       "       'id_str': '882981608525099008',\n",
       "       'indices': [264, 287],\n",
       "       'media_url': 'http://pbs.twimg.com/ext_tw_video_thumb/882981608525099008/pu/img/C7C12gbF2N7GRRzu.jpg',\n",
       "       'media_url_https': 'https://pbs.twimg.com/ext_tw_video_thumb/882981608525099008/pu/img/C7C12gbF2N7GRRzu.jpg',\n",
       "       'sizes': {'large': {'h': 720, 'resize': 'fit', 'w': 1280},\n",
       "        'medium': {'h': 675, 'resize': 'fit', 'w': 1200},\n",
       "        'small': {'h': 383, 'resize': 'fit', 'w': 680},\n",
       "        'thumb': {'h': 150, 'resize': 'crop', 'w': 150}},\n",
       "       'source_status_id': 882981994321371137,\n",
       "       'source_status_id_str': '882981994321371137',\n",
       "       'source_user_id': 238080747,\n",
       "       'source_user_id_str': '238080747',\n",
       "       'type': 'video',\n",
       "       'url': 'https://t.co/OzelKGjnWN',\n",
       "       'video_info': {'aspect_ratio': [16, 9],\n",
       "        'duration_millis': 39040,\n",
       "        'variants': [{'bitrate': 832000,\n",
       "          'content_type': 'video/mp4',\n",
       "          'url': 'https://video.twimg.com/ext_tw_video/882981608525099008/pu/vid/640x360/cx8za3BkQ8lQKV3b.mp4'},\n",
       "         {'content_type': 'application/x-mpegURL',\n",
       "          'url': 'https://video.twimg.com/ext_tw_video/882981608525099008/pu/pl/npmWeAg7JyrxSR_-.m3u8'},\n",
       "         {'bitrate': 2176000,\n",
       "          'content_type': 'video/mp4',\n",
       "          'url': 'https://video.twimg.com/ext_tw_video/882981608525099008/pu/vid/1280x720/LXKuRJsSFoeKgzyU.mp4'},\n",
       "         {'bitrate': 256000,\n",
       "          'content_type': 'video/mp4',\n",
       "          'url': 'https://video.twimg.com/ext_tw_video/882981608525099008/pu/vid/320x180/8Ywr8_PVmQ9getOd.mp4'}]}}]},\n",
       "    'favorite_count': 13,\n",
       "    'favorited': False,\n",
       "    'full_text': '.@sputnik_fr\\n\\n#Report SVP: It’s #Imperative That #China #BanYulin (6/21) #DogCatMeatTrade &amp; #WetMarkets Permanently \\n\\n#Healthy &amp; #Sick #Cats #Dogs Are #Crowded Together For #Transport...\\n\\n#Unsanitary Live #Slaughter..=#BreedingGround For #Rabies #Covid19\\n\\nhttps://t.co/OzelKGjnWN',\n",
       "    'geo': None,\n",
       "    'id': 1256743025708945408,\n",
       "    'id_str': '1256743025708945408',\n",
       "    'in_reply_to_screen_name': None,\n",
       "    'in_reply_to_status_id': None,\n",
       "    'in_reply_to_status_id_str': None,\n",
       "    'in_reply_to_user_id': None,\n",
       "    'in_reply_to_user_id_str': None,\n",
       "    'is_quote_status': False,\n",
       "    'lang': 'en',\n",
       "    'metadata': {'iso_language_code': 'en', 'result_type': 'recent'},\n",
       "    'place': None,\n",
       "    'possibly_sensitive': True,\n",
       "    'retweet_count': 38,\n",
       "    'retweeted': False,\n",
       "    'source': '<a href=\"http://twitter.com/#!/download/ipad\" rel=\"nofollow\">Twitter for iPad</a>',\n",
       "    'truncated': False,\n",
       "    'user': {'contributors_enabled': False,\n",
       "     'created_at': 'Sat May 19 14:46:25 +0000 2018',\n",
       "     'default_profile': True,\n",
       "     'default_profile_image': False,\n",
       "     'description': '',\n",
       "     'entities': {'description': {'urls': []}},\n",
       "     'favourites_count': 2271,\n",
       "     'follow_request_sent': False,\n",
       "     'followers_count': 2405,\n",
       "     'following': False,\n",
       "     'friends_count': 1347,\n",
       "     'geo_enabled': False,\n",
       "     'has_extended_profile': True,\n",
       "     'id': 997850973266587648,\n",
       "     'id_str': '997850973266587648',\n",
       "     'is_translation_enabled': False,\n",
       "     'is_translator': False,\n",
       "     'lang': None,\n",
       "     'listed_count': 20,\n",
       "     'location': '',\n",
       "     'name': 'Friends4AnimalJustice',\n",
       "     'notifications': False,\n",
       "     'profile_background_color': 'F5F8FA',\n",
       "     'profile_background_image_url': None,\n",
       "     'profile_background_image_url_https': None,\n",
       "     'profile_background_tile': False,\n",
       "     'profile_banner_url': 'https://pbs.twimg.com/profile_banners/997850973266587648/1526742544',\n",
       "     'profile_image_url': 'http://pbs.twimg.com/profile_images/997855785676750848/QCIcsRa__normal.jpg',\n",
       "     'profile_image_url_https': 'https://pbs.twimg.com/profile_images/997855785676750848/QCIcsRa__normal.jpg',\n",
       "     'profile_link_color': '1DA1F2',\n",
       "     'profile_sidebar_border_color': 'C0DEED',\n",
       "     'profile_sidebar_fill_color': 'DDEEF6',\n",
       "     'profile_text_color': '333333',\n",
       "     'profile_use_background_image': True,\n",
       "     'protected': False,\n",
       "     'screen_name': 'MaryJoe38642126',\n",
       "     'statuses_count': 117183,\n",
       "     'time_zone': None,\n",
       "     'translator_type': 'none',\n",
       "     'url': None,\n",
       "     'utc_offset': None,\n",
       "     'verified': False}},\n",
       "   'source': '<a href=\"http://twitter.com/download/android\" rel=\"nofollow\">Twitter for Android</a>',\n",
       "   'truncated': False,\n",
       "   'user': {'contributors_enabled': False,\n",
       "    'created_at': 'Mon Aug 13 00:47:22 +0000 2018',\n",
       "    'default_profile': True,\n",
       "    'default_profile_image': False,\n",
       "    'description': '#ObamaGirl #TheResistance #Vegan\\n#SaveTheESA #VoteBlue2020 #banfoiegras #StopCannedHunting #StopFactoryFarming #CaptivityKills',\n",
       "    'entities': {'description': {'urls': []}},\n",
       "    'favourites_count': 3673,\n",
       "    'follow_request_sent': False,\n",
       "    'followers_count': 273,\n",
       "    'following': False,\n",
       "    'friends_count': 505,\n",
       "    'geo_enabled': False,\n",
       "    'has_extended_profile': True,\n",
       "    'id': 1028805173412429824,\n",
       "    'id_str': '1028805173412429824',\n",
       "    'is_translation_enabled': False,\n",
       "    'is_translator': False,\n",
       "    'lang': None,\n",
       "    'listed_count': 0,\n",
       "    'location': 'California, USA',\n",
       "    'name': 'Cindy ARA #Resist',\n",
       "    'notifications': False,\n",
       "    'profile_background_color': 'F5F8FA',\n",
       "    'profile_background_image_url': None,\n",
       "    'profile_background_image_url_https': None,\n",
       "    'profile_background_tile': False,\n",
       "    'profile_banner_url': 'https://pbs.twimg.com/profile_banners/1028805173412429824/1534121913',\n",
       "    'profile_image_url': 'http://pbs.twimg.com/profile_images/1037812451062890496/jjS8w6Ov_normal.jpg',\n",
       "    'profile_image_url_https': 'https://pbs.twimg.com/profile_images/1037812451062890496/jjS8w6Ov_normal.jpg',\n",
       "    'profile_link_color': '1DA1F2',\n",
       "    'profile_sidebar_border_color': 'C0DEED',\n",
       "    'profile_sidebar_fill_color': 'DDEEF6',\n",
       "    'profile_text_color': '333333',\n",
       "    'profile_use_background_image': True,\n",
       "    'protected': False,\n",
       "    'screen_name': 'CinZimm54',\n",
       "    'statuses_count': 6531,\n",
       "    'time_zone': None,\n",
       "    'translator_type': 'none',\n",
       "    'url': None,\n",
       "    'utc_offset': None,\n",
       "    'verified': False}}]}"
      ]
     },
     "execution_count": 7,
     "metadata": {},
     "output_type": "execute_result"
    }
   ],
   "source": [
    "results"
   ]
  },
  {
   "cell_type": "code",
   "execution_count": 53,
   "metadata": {},
   "outputs": [],
   "source": [
    "results[\"statuses\"][0].keys(); #.keys() #[\"full_text\"]"
   ]
  },
  {
   "cell_type": "code",
   "execution_count": 31,
   "metadata": {},
   "outputs": [],
   "source": [
    "# debugging \n",
    "\n",
    "\n",
    "# dict_keys = list(results[\"statuses\"][0].keys())"
   ]
  },
  {
   "cell_type": "code",
   "execution_count": 46,
   "metadata": {},
   "outputs": [],
   "source": [
    "\n",
    "# for i in dict_keys:\n",
    "#     print(i)\n",
    "#     print(\"\")\n",
    "#     print(results[\"statuses\"][0][i])\n",
    "#     print(\"------------------------------------------------------------------------------------------------------\")"
   ]
  },
  {
   "cell_type": "code",
   "execution_count": 47,
   "metadata": {},
   "outputs": [],
   "source": [
    "# results[\"statuses\"][0][\"user\"]"
   ]
  },
  {
   "cell_type": "code",
   "execution_count": null,
   "metadata": {},
   "outputs": [],
   "source": []
  },
  {
   "cell_type": "code",
   "execution_count": 48,
   "metadata": {},
   "outputs": [
    {
     "data": {
      "text/plain": [
       "'Tue Apr 14 21:18:49 +0000 2020'"
      ]
     },
     "execution_count": 48,
     "metadata": {},
     "output_type": "execute_result"
    }
   ],
   "source": [
    "# change to datetime\n",
    "results[\"statuses\"][0][\"created_at\"]"
   ]
  },
  {
   "cell_type": "code",
   "execution_count": 113,
   "metadata": {},
   "outputs": [],
   "source": [
    "time_stamp = results[\"statuses\"][0][\"created_at\"]"
   ]
  },
  {
   "cell_type": "code",
   "execution_count": 119,
   "metadata": {},
   "outputs": [
    {
     "data": {
      "text/plain": [
       "'2020-04-14 21:18:49+00:00'"
      ]
     },
     "execution_count": 119,
     "metadata": {},
     "output_type": "execute_result"
    }
   ],
   "source": [
    "#ask if want in datetime or str \n",
    "\n",
    "str(datetime.datetime.strptime(time_stamp, '%a %b %d %X %z %Y'))"
   ]
  },
  {
   "cell_type": "code",
   "execution_count": 114,
   "metadata": {},
   "outputs": [],
   "source": [
    "import datetime\n",
    "#import strptime"
   ]
  },
  {
   "cell_type": "code",
   "execution_count": null,
   "metadata": {},
   "outputs": [],
   "source": []
  },
  {
   "cell_type": "code",
   "execution_count": null,
   "metadata": {},
   "outputs": [],
   "source": []
  },
  {
   "cell_type": "code",
   "execution_count": null,
   "metadata": {},
   "outputs": [],
   "source": []
  },
  {
   "cell_type": "code",
   "execution_count": null,
   "metadata": {},
   "outputs": [],
   "source": []
  },
  {
   "cell_type": "code",
   "execution_count": 49,
   "metadata": {},
   "outputs": [
    {
     "data": {
      "text/plain": [
       "1250171676068847617"
      ]
     },
     "execution_count": 49,
     "metadata": {},
     "output_type": "execute_result"
    }
   ],
   "source": [
    "results[\"statuses\"][0][\"id\"]"
   ]
  },
  {
   "cell_type": "code",
   "execution_count": 51,
   "metadata": {
    "scrolled": true
   },
   "outputs": [
    {
     "data": {
      "text/plain": [
       "'1⃣\\nWhy Did Iran’s President Hassan #Rouhani End the Quarantine and Ignore the Catastrophe of #Coronavirus Expansion?\\n#COVID19 @WHO\\n@ForeignOffice @usadarfarsi @StateDept @statedeptspox  @SecPompeo @realDonaldTrump @USUN @mbachelet @javaidRehman @UNHumanRights \\n@GermanyDiplo https://t.co/eD8XKisaek'"
      ]
     },
     "execution_count": 51,
     "metadata": {},
     "output_type": "execute_result"
    }
   ],
   "source": [
    "# clean string\n",
    "results[\"statuses\"][0][\"retweeted_status\"][\"full_text\"]"
   ]
  },
  {
   "cell_type": "code",
   "execution_count": 18,
   "metadata": {},
   "outputs": [
    {
     "data": {
      "text/plain": [
       "4244"
      ]
     },
     "execution_count": 18,
     "metadata": {},
     "output_type": "execute_result"
    }
   ],
   "source": [
    "results[\"statuses\"][0][\"user\"][\"friends_count\"]"
   ]
  },
  {
   "cell_type": "code",
   "execution_count": 19,
   "metadata": {},
   "outputs": [
    {
     "data": {
      "text/plain": [
       "'exhaustartist'"
      ]
     },
     "execution_count": 19,
     "metadata": {},
     "output_type": "execute_result"
    }
   ],
   "source": [
    "results[\"statuses\"][0][\"user\"][\"screen_name\"]"
   ]
  },
  {
   "cell_type": "code",
   "execution_count": null,
   "metadata": {},
   "outputs": [],
   "source": [
    "# results['statuses'][0][\"user\"][\"friends_count\"]\n",
    "# results['statuses'][0][\"user\"][\"screen_name\"] # will be key in Hbase\n",
    "\n",
    "# full_text, created_at as time_stamp datetime format, id, "
   ]
  },
  {
   "cell_type": "code",
   "execution_count": 54,
   "metadata": {},
   "outputs": [],
   "source": [
    "full_tweet = results[\"statuses\"][0][\"retweeted_status\"][\"full_text\"]"
   ]
  },
  {
   "cell_type": "code",
   "execution_count": 57,
   "metadata": {},
   "outputs": [],
   "source": [
    "import re"
   ]
  },
  {
   "cell_type": "code",
   "execution_count": 74,
   "metadata": {},
   "outputs": [
    {
     "data": {
      "text/plain": [
       "'1⃣\\nWhy Did Iran’s President Hassan #Rouhani End the Quarantine and Ignore the Catastrophe of #Coronavirus Expansion?\\n#COVID19 @WHO\\n@ForeignOffice @usadarfarsi @StateDept @statedeptspox  @SecPompeo @realDonaldTrump @USUN @mbachelet @javaidRehman @UNHumanRights \\n@GermanyDiplo https://t.co/eD8XKisaek'"
      ]
     },
     "execution_count": 74,
     "metadata": {},
     "output_type": "execute_result"
    }
   ],
   "source": [
    "full_tweet"
   ]
  },
  {
   "cell_type": "code",
   "execution_count": 72,
   "metadata": {},
   "outputs": [
    {
     "data": {
      "text/plain": [
       "'1 Why Did Iran s President Hassan Rouhani End the Quarantine and Ignore the Catastrophe of Coronavirus Expansion COVID19 WHO ForeignOffice usadarfarsi StateDept statedeptspox SecPompeo realDonaldTrump USUN mbachelet javaidRehman UNHumanRights GermanyDiplo https t co eD8XKisaek'"
      ]
     },
     "execution_count": 72,
     "metadata": {},
     "output_type": "execute_result"
    }
   ],
   "source": [
    "re.sub(\"[\\W_]+\", \" \", full_tweet)  "
   ]
  },
  {
   "cell_type": "code",
   "execution_count": 79,
   "metadata": {},
   "outputs": [
    {
     "data": {
      "text/plain": [
       "'1 Why Did Iran s President Hassan Rouhani End the Quarantine and Ignore the Catastrophe of Coronavirus Expansion COVID19 WHO ForeignOffice usadarfarsi StateDept statedeptspox SecPompeo realDonaldTrump USUN mbachelet javaidRehman UNHumanRights GermanyDiplo https t co eD8XKisaek'"
      ]
     },
     "execution_count": 79,
     "metadata": {},
     "output_type": "execute_result"
    }
   ],
   "source": [
    "re.sub(\"[^\\w]+\", \" \", full_tweet)  "
   ]
  },
  {
   "cell_type": "code",
   "execution_count": 88,
   "metadata": {},
   "outputs": [
    {
     "data": {
      "text/plain": [
       "'1⃣\\nWhy Did Iran’s President Hassan #Rouhani End the Quarantine and Ignore the Catastrophe of #Coronavirus Expansion?\\n#COVID19 @WHO\\n@ForeignOffice @usadarfarsi @StateDept @statedeptspox  @SecPompeo @realDonaldTrump @USUN @mbachelet @javaidRehman @UNHumanRights \\n@GermanyDiplo https://t.co/eD8XKisaek'"
      ]
     },
     "execution_count": 88,
     "metadata": {},
     "output_type": "execute_result"
    }
   ],
   "source": [
    "re.sub(\"[^A-Za-z0-9]+'\", \" \", full_tweet)  \n",
    "\n"
   ]
  },
  {
   "cell_type": "code",
   "execution_count": 82,
   "metadata": {},
   "outputs": [
    {
     "data": {
      "text/plain": [
       "'1 Why Did Iran s President Hassan Rouhani End the Quarantine and Ignore the Catastrophe of Coronavirus Expansion COVID19 WHO ForeignOffice usadarfarsi StateDept statedeptspox SecPompeo realDonaldTrump USUN mbachelet javaidRehman UNHumanRights GermanyDiplo https t co eD8XKisaek'"
      ]
     },
     "execution_count": 82,
     "metadata": {},
     "output_type": "execute_result"
    }
   ],
   "source": [
    "re.sub(\"[^'\\w+'\\w]+\", \" \", full_tweet)  "
   ]
  },
  {
   "cell_type": "code",
   "execution_count": null,
   "metadata": {},
   "outputs": [],
   "source": []
  },
  {
   "cell_type": "code",
   "execution_count": 90,
   "metadata": {},
   "outputs": [],
   "source": [
    "new = re.sub(\"[^A-Za-z0-9]+'\", \" \", full_tweet)  "
   ]
  },
  {
   "cell_type": "code",
   "execution_count": 112,
   "metadata": {},
   "outputs": [
    {
     "data": {
      "text/plain": [
       "'1⃣Why Did Iran’s President Hassan #Rouhani End the Quarantine and Ignore the Catastrophe of #Coronavirus Expansion?#COVID19 @WHO@ForeignOffice @usadarfarsi @StateDept @statedeptspox  @SecPompeo @realDonaldTrump @USUN @mbachelet @javaidRehman @UNHumanRights @GermanyDiplo https://t.co/eD8XKisaek'"
      ]
     },
     "execution_count": 112,
     "metadata": {},
     "output_type": "execute_result"
    }
   ],
   "source": [
    "new.replace(\"\\n\", \"\")"
   ]
  },
  {
   "cell_type": "code",
   "execution_count": null,
   "metadata": {},
   "outputs": [],
   "source": []
  },
  {
   "cell_type": "code",
   "execution_count": null,
   "metadata": {},
   "outputs": [],
   "source": []
  },
  {
   "cell_type": "code",
   "execution_count": null,
   "metadata": {},
   "outputs": [],
   "source": []
  },
  {
   "cell_type": "code",
   "execution_count": null,
   "metadata": {},
   "outputs": [],
   "source": []
  }
 ],
 "metadata": {
  "kernelspec": {
   "display_name": "Python 3",
   "language": "python",
   "name": "python3"
  },
  "language_info": {
   "codemirror_mode": {
    "name": "ipython",
    "version": 3
   },
   "file_extension": ".py",
   "mimetype": "text/x-python",
   "name": "python",
   "nbconvert_exporter": "python",
   "pygments_lexer": "ipython3",
   "version": "3.6.9"
  }
 },
 "nbformat": 4,
 "nbformat_minor": 2
}
