{
 "cells": [
  {
   "cell_type": "code",
   "execution_count": 1,
   "metadata": {},
   "outputs": [],
   "source": [
    "from tweepy import StreamListener\n",
    "from tweepy import OAuthHandler\n",
    "from tweepy import Stream\n",
    "# from tweepy import API\n",
    "# from tweepy import parsers\n",
    "\n",
    "from pykafka import KafkaClient\n",
    "import json\n",
    "\n",
    "import twitter_credentials"
   ]
  },
  {
   "cell_type": "code",
   "execution_count": 18,
   "metadata": {},
   "outputs": [],
   "source": [
    "# this is if you want specific user data \n",
    "\n",
    "# class TwitterClient():\n",
    "#     # borrows from TwitterAUthenticator to call API \n",
    "    \n",
    "#     # has two methods twitter_client and auth\n",
    "    \n",
    "#     def __init__(self):\n",
    "        \n",
    "#         self.auth = TwitterAuthenticator().authenticate_twitter()\n",
    "#         #JSON parser returns as dictionary\n",
    "#         self.twitter_client = API(self.auth, parser=parsers.JSONParser())"
   ]
  },
  {
   "cell_type": "code",
   "execution_count": 19,
   "metadata": {},
   "outputs": [],
   "source": [
    "class TwitterAuthenticator():\n",
    "    \n",
    "    # class to authenticate tweets \n",
    "    \n",
    "    # auth method returns credentials \n",
    "    \n",
    "    def auth(self):\n",
    "        auth = OAuthHandler(twitter_credentials.CONSUMER_KEY, twitter_credentials.CONSUMER_SECRET)\n",
    "        auth.set_access_token(twitter_credentials.ACCESS_TOKEN, twitter_credentials.ACCESS_TOKEN_SECRET)\n",
    "        return auth\n",
    "        "
   ]
  },
  {
   "cell_type": "code",
   "execution_count": 20,
   "metadata": {},
   "outputs": [],
   "source": [
    "# create class that allows us to print tweets \n",
    "# inherits from Tweepys StreamListener class\n",
    "\n",
    "# manipulated to print tweets to console\n",
    "\n",
    "class TwitterListener(StreamListener):\n",
    "    \n",
    "    # create constructor \n",
    "    # a Listener object thats associated to filename where tweets are writing to\n",
    "    def __init__(self, tweets_file):\n",
    "        # a class variable\n",
    "        self.tweets_file = tweets_file\n",
    "    \n",
    "    # here using print statement can use \n",
    "    def on_data(self, data):\n",
    "        try:\n",
    "            print(data)\n",
    "            # writes tweets to file, a means appends\n",
    "            # \n",
    "            with open(self.tweets_file, 'a') as tf:\n",
    "                tf.write(data)\n",
    "            return True\n",
    "        except BaseException as e:\n",
    "            print(\"Error on_data %s\" % str(e))\n",
    "        return True\n",
    "    \n",
    "    def on_error(self, status):\n",
    "        if status == 420:\n",
    "            # returns False if rates limit occurs \n",
    "            return False\n",
    "        print(status)\n"
   ]
  },
  {
   "cell_type": "code",
   "execution_count": 21,
   "metadata": {},
   "outputs": [],
   "source": [
    "class TwitterStreamer():\n",
    "    # class for processing streams \n",
    "    \n",
    "    def __init__(self):\n",
    "        self.twitter_auth = TwitterAuthenticator()\n",
    "    \n",
    "    def stream_tweets(self, tweets_file, hash_tags):\n",
    "        # handles twitter authentication and connection to API\n",
    "        listener = TwitterListener(tweets_file)\n",
    "        auth = self.twitter_auth.authenticate_twitter()\n",
    "\n",
    "        stream = Stream(auth, listener)\n",
    "        stream.filter(track = hash_tags)"
   ]
  },
  {
   "cell_type": "code",
   "execution_count": 22,
   "metadata": {},
   "outputs": [
    {
     "name": "stdout",
     "output_type": "stream",
     "text": [
      "<__main__.TwitterClient object at 0x7fdb624b2470>\n"
     ]
    }
   ],
   "source": [
    "if __name__ == \"__main__\":\n",
    "    \n",
    "    hash_tags = [\"covid19\", \"corona\"]\n",
    "    fetched_tweets_file = \"tweets_trial1.json\"\n",
    "    \n",
    "#     twitter_client = TwitterClient()\n",
    "#     print(twitter_client)\n",
    "    \n",
    "    # define twitter streamer object \n",
    "    twitter_streamer = TwitterStreamer()\n",
    "    twitter_streamer.stream_tweets(fetched_tweets_file, hash_tags)"
   ]
  },
  {
   "cell_type": "code",
   "execution_count": null,
   "metadata": {},
   "outputs": [],
   "source": []
  },
  {
   "cell_type": "code",
   "execution_count": null,
   "metadata": {},
   "outputs": [],
   "source": []
  },
  {
   "cell_type": "code",
   "execution_count": 3,
   "metadata": {},
   "outputs": [],
   "source": [
    "# auth = tweepy.OAuthHandler(twitter_credentials.CONSUMER_KEY, twitter_credentials.CONSUMER_SECRET)\n",
    "# auth.set_access_token(twitter_credentials.ACCESS_TOKEN, twitter_credentials.ACCESS_TOKEN_SECRET)"
   ]
  },
  {
   "cell_type": "code",
   "execution_count": null,
   "metadata": {},
   "outputs": [],
   "source": []
  },
  {
   "cell_type": "code",
   "execution_count": null,
   "metadata": {},
   "outputs": [],
   "source": [
    "\n",
    "#got two options can save text exactly into dictionary and pass as message to consumer \n",
    "#or can save whole json to file and read from file \n",
    "#https://www.youtube.com/watch?v=xiouigXHqdE\n",
    "\n",
    "# start kafka, zookeeper and consumer console \n",
    "# in terminal \n",
    "\n",
    "#zookeeper-server-start.sh $KAFKA_HOME/config/zookeeper.properties\n",
    "#kafka-server-start.sh $KAFKA_HOME/config/server.properties\n",
    "#kafka-console-consumer.sh --bootstrap-server localhost:9092 --topic twitterTest --from-beginning\n",
    "\n",
    "\n",
    "from pykafka import KafkaClient\n",
    "\n",
    "import twitter\n",
    "import json\n",
    "\n",
    "from datetime import datetime\n",
    "from time import sleep\n",
    "#import uuid\n",
    "\n",
    "\n",
    "client = KafkaClient(hosts=\"localhost:9092\")\n",
    "topic = client.topics['twitterTest']\n",
    "producer = topic.get_sync_producer()\n",
    "\n",
    "# with topic.get_sync_producer() as producer:\n",
    "#     for i in range(4):\n",
    "#         producer.produce('test message '.encode('ascii') + str(i ** 2).encode('ascii'))\n",
    "\n",
    "# twitter API\n",
    "\n",
    "api = twitter.Api(consumer_key='***',\n",
    "  consumer_secret='***',\n",
    "    access_token_key='***',\n",
    "    access_token_secret='***')\n",
    "\n",
    "data = {}\n",
    "\n",
    "for i in range(50):\n",
    "    \n",
    "    trumptweets = api.GetSearch(term='trump', count=1, result_type='recent', return_json=True)\n",
    "    \n",
    "    atweet = trumptweets['statuses'][0]['text']\n",
    "    \n",
    "    data['ID'] = i\n",
    "    data['timestamp'] = str(datetime.utcnow())\n",
    "    data['tweet'] = atweet\n",
    "    \n",
    "    #json.dumps takes object and produces str\n",
    "    message = json.dumps(data)\n",
    "    print(message)\n",
    "    producer.produce(str(message).encode('utf-8'))\n",
    "    \n",
    "    sleep(3) #will collect from API every 5 min for the next hour"
   ]
  },
  {
   "cell_type": "code",
   "execution_count": null,
   "metadata": {},
   "outputs": [],
   "source": []
  },
  {
   "cell_type": "code",
   "execution_count": null,
   "metadata": {},
   "outputs": [],
   "source": []
  },
  {
   "cell_type": "code",
   "execution_count": null,
   "metadata": {},
   "outputs": [],
   "source": []
  },
  {
   "cell_type": "code",
   "execution_count": null,
   "metadata": {},
   "outputs": [],
   "source": []
  },
  {
   "cell_type": "code",
   "execution_count": 4,
   "metadata": {},
   "outputs": [],
   "source": [
    "api = tweepy.API(auth, parser=tweepy.parsers.JSONParser())"
   ]
  },
  {
   "cell_type": "code",
   "execution_count": 10,
   "metadata": {},
   "outputs": [],
   "source": [
    "results = api.search(q=\"covid19\", count=1, tweet_mode=\"extended\", lang=\"en\")"
   ]
  },
  {
   "cell_type": "code",
   "execution_count": 11,
   "metadata": {},
   "outputs": [
    {
     "data": {
      "text/plain": [
       "dict_keys(['statuses', 'search_metadata'])"
      ]
     },
     "execution_count": 11,
     "metadata": {},
     "output_type": "execute_result"
    }
   ],
   "source": [
    "results.keys()"
   ]
  },
  {
   "cell_type": "code",
   "execution_count": 52,
   "metadata": {},
   "outputs": [],
   "source": [
    "results[\"search_metadata\"];"
   ]
  },
  {
   "cell_type": "code",
   "execution_count": 53,
   "metadata": {},
   "outputs": [],
   "source": [
    "results[\"statuses\"][0].keys(); #.keys() #[\"full_text\"]"
   ]
  },
  {
   "cell_type": "code",
   "execution_count": 31,
   "metadata": {},
   "outputs": [],
   "source": [
    "# debugging \n",
    "\n",
    "\n",
    "# dict_keys = list(results[\"statuses\"][0].keys())"
   ]
  },
  {
   "cell_type": "code",
   "execution_count": 46,
   "metadata": {},
   "outputs": [],
   "source": [
    "\n",
    "# for i in dict_keys:\n",
    "#     print(i)\n",
    "#     print(\"\")\n",
    "#     print(results[\"statuses\"][0][i])\n",
    "#     print(\"------------------------------------------------------------------------------------------------------\")"
   ]
  },
  {
   "cell_type": "code",
   "execution_count": 47,
   "metadata": {},
   "outputs": [],
   "source": [
    "# results[\"statuses\"][0][\"user\"]"
   ]
  },
  {
   "cell_type": "code",
   "execution_count": null,
   "metadata": {},
   "outputs": [],
   "source": []
  },
  {
   "cell_type": "code",
   "execution_count": 48,
   "metadata": {},
   "outputs": [
    {
     "data": {
      "text/plain": [
       "'Tue Apr 14 21:18:49 +0000 2020'"
      ]
     },
     "execution_count": 48,
     "metadata": {},
     "output_type": "execute_result"
    }
   ],
   "source": [
    "# change to datetime\n",
    "results[\"statuses\"][0][\"created_at\"]"
   ]
  },
  {
   "cell_type": "code",
   "execution_count": 113,
   "metadata": {},
   "outputs": [],
   "source": [
    "time_stamp = results[\"statuses\"][0][\"created_at\"]"
   ]
  },
  {
   "cell_type": "code",
   "execution_count": 119,
   "metadata": {},
   "outputs": [
    {
     "data": {
      "text/plain": [
       "'2020-04-14 21:18:49+00:00'"
      ]
     },
     "execution_count": 119,
     "metadata": {},
     "output_type": "execute_result"
    }
   ],
   "source": [
    "#ask if want in datetime or str \n",
    "\n",
    "str(datetime.datetime.strptime(time_stamp, '%a %b %d %X %z %Y'))"
   ]
  },
  {
   "cell_type": "code",
   "execution_count": 114,
   "metadata": {},
   "outputs": [],
   "source": [
    "import datetime\n",
    "#import strptime"
   ]
  },
  {
   "cell_type": "code",
   "execution_count": null,
   "metadata": {},
   "outputs": [],
   "source": []
  },
  {
   "cell_type": "code",
   "execution_count": null,
   "metadata": {},
   "outputs": [],
   "source": []
  },
  {
   "cell_type": "code",
   "execution_count": null,
   "metadata": {},
   "outputs": [],
   "source": []
  },
  {
   "cell_type": "code",
   "execution_count": null,
   "metadata": {},
   "outputs": [],
   "source": []
  },
  {
   "cell_type": "code",
   "execution_count": 49,
   "metadata": {},
   "outputs": [
    {
     "data": {
      "text/plain": [
       "1250171676068847617"
      ]
     },
     "execution_count": 49,
     "metadata": {},
     "output_type": "execute_result"
    }
   ],
   "source": [
    "results[\"statuses\"][0][\"id\"]"
   ]
  },
  {
   "cell_type": "code",
   "execution_count": 51,
   "metadata": {
    "scrolled": true
   },
   "outputs": [
    {
     "data": {
      "text/plain": [
       "'1⃣\\nWhy Did Iran’s President Hassan #Rouhani End the Quarantine and Ignore the Catastrophe of #Coronavirus Expansion?\\n#COVID19 @WHO\\n@ForeignOffice @usadarfarsi @StateDept @statedeptspox  @SecPompeo @realDonaldTrump @USUN @mbachelet @javaidRehman @UNHumanRights \\n@GermanyDiplo https://t.co/eD8XKisaek'"
      ]
     },
     "execution_count": 51,
     "metadata": {},
     "output_type": "execute_result"
    }
   ],
   "source": [
    "# clean string\n",
    "results[\"statuses\"][0][\"retweeted_status\"][\"full_text\"]"
   ]
  },
  {
   "cell_type": "code",
   "execution_count": 18,
   "metadata": {},
   "outputs": [
    {
     "data": {
      "text/plain": [
       "4244"
      ]
     },
     "execution_count": 18,
     "metadata": {},
     "output_type": "execute_result"
    }
   ],
   "source": [
    "results[\"statuses\"][0][\"user\"][\"friends_count\"]"
   ]
  },
  {
   "cell_type": "code",
   "execution_count": 19,
   "metadata": {},
   "outputs": [
    {
     "data": {
      "text/plain": [
       "'exhaustartist'"
      ]
     },
     "execution_count": 19,
     "metadata": {},
     "output_type": "execute_result"
    }
   ],
   "source": [
    "results[\"statuses\"][0][\"user\"][\"screen_name\"]"
   ]
  },
  {
   "cell_type": "code",
   "execution_count": null,
   "metadata": {},
   "outputs": [],
   "source": [
    "# results['statuses'][0][\"user\"][\"friends_count\"]\n",
    "# results['statuses'][0][\"user\"][\"screen_name\"] # will be key in Hbase\n",
    "\n",
    "# full_text, created_at as time_stamp datetime format, id, "
   ]
  },
  {
   "cell_type": "code",
   "execution_count": 54,
   "metadata": {},
   "outputs": [],
   "source": [
    "full_tweet = results[\"statuses\"][0][\"retweeted_status\"][\"full_text\"]"
   ]
  },
  {
   "cell_type": "code",
   "execution_count": 57,
   "metadata": {},
   "outputs": [],
   "source": [
    "import re"
   ]
  },
  {
   "cell_type": "code",
   "execution_count": null,
   "metadata": {},
   "outputs": [],
   "source": []
  },
  {
   "cell_type": "code",
   "execution_count": 82,
   "metadata": {},
   "outputs": [
    {
     "data": {
      "text/plain": [
       "'1 Why Did Iran s President Hassan Rouhani End the Quarantine and Ignore the Catastrophe of Coronavirus Expansion COVID19 WHO ForeignOffice usadarfarsi StateDept statedeptspox SecPompeo realDonaldTrump USUN mbachelet javaidRehman UNHumanRights GermanyDiplo https t co eD8XKisaek'"
      ]
     },
     "execution_count": 82,
     "metadata": {},
     "output_type": "execute_result"
    }
   ],
   "source": [
    "re.sub(\"[^'\\w+'\\w]+\", \" \", full_tweet)  "
   ]
  },
  {
   "cell_type": "code",
   "execution_count": null,
   "metadata": {},
   "outputs": [],
   "source": []
  },
  {
   "cell_type": "code",
   "execution_count": 90,
   "metadata": {},
   "outputs": [],
   "source": [
    "new = re.sub(\"[^A-Za-z0-9]+'\", \" \", full_tweet)  "
   ]
  },
  {
   "cell_type": "code",
   "execution_count": 112,
   "metadata": {},
   "outputs": [
    {
     "data": {
      "text/plain": [
       "'1⃣Why Did Iran’s President Hassan #Rouhani End the Quarantine and Ignore the Catastrophe of #Coronavirus Expansion?#COVID19 @WHO@ForeignOffice @usadarfarsi @StateDept @statedeptspox  @SecPompeo @realDonaldTrump @USUN @mbachelet @javaidRehman @UNHumanRights @GermanyDiplo https://t.co/eD8XKisaek'"
      ]
     },
     "execution_count": 112,
     "metadata": {},
     "output_type": "execute_result"
    }
   ],
   "source": [
    "new.replace(\"\\n\", \"\")"
   ]
  },
  {
   "cell_type": "code",
   "execution_count": null,
   "metadata": {},
   "outputs": [],
   "source": []
  },
  {
   "cell_type": "code",
   "execution_count": null,
   "metadata": {},
   "outputs": [],
   "source": []
  },
  {
   "cell_type": "code",
   "execution_count": null,
   "metadata": {},
   "outputs": [],
   "source": []
  },
  {
   "cell_type": "code",
   "execution_count": null,
   "metadata": {},
   "outputs": [],
   "source": []
  }
 ],
 "metadata": {
  "kernelspec": {
   "display_name": "Python 3",
   "language": "python",
   "name": "python3"
  },
  "language_info": {
   "codemirror_mode": {
    "name": "ipython",
    "version": 3
   },
   "file_extension": ".py",
   "mimetype": "text/x-python",
   "name": "python",
   "nbconvert_exporter": "python",
   "pygments_lexer": "ipython3",
   "version": "3.6.9"
  }
 },
 "nbformat": 4,
 "nbformat_minor": 2
}
