{
 "cells": [
  {
   "cell_type": "code",
   "execution_count": 1,
   "metadata": {},
   "outputs": [],
   "source": [
    "import tweepy\n",
    "import twitter_credentials"
   ]
  },
  {
   "cell_type": "code",
   "execution_count": 3,
   "metadata": {},
   "outputs": [],
   "source": [
    "auth = tweepy.OAuthHandler(twitter_credentials.CONSUMER_KEY, twitter_credentials.CONSUMER_SECRET)\n",
    "auth.set_access_token(twitter_credentials.ACCESS_TOKEN, twitter_credentials.ACCESS_TOKEN_SECRET)"
   ]
  },
  {
   "cell_type": "code",
   "execution_count": 4,
   "metadata": {},
   "outputs": [],
   "source": [
    "api = tweepy.API(auth, parser=tweepy.parsers.JSONParser())"
   ]
  },
  {
   "cell_type": "code",
   "execution_count": 10,
   "metadata": {},
   "outputs": [],
   "source": [
    "results = api.search(q=\"covid19\", count=1, tweet_mode=\"extended\", lang=\"en\")"
   ]
  },
  {
   "cell_type": "code",
   "execution_count": 11,
   "metadata": {},
   "outputs": [
    {
     "data": {
      "text/plain": [
       "dict_keys(['statuses', 'search_metadata'])"
      ]
     },
     "execution_count": 11,
     "metadata": {},
     "output_type": "execute_result"
    }
   ],
   "source": [
    "results.keys()"
   ]
  },
  {
   "cell_type": "code",
   "execution_count": 52,
   "metadata": {},
   "outputs": [],
   "source": [
    "results[\"search_metadata\"];"
   ]
  },
  {
   "cell_type": "code",
   "execution_count": 53,
   "metadata": {},
   "outputs": [],
   "source": [
    "results[\"statuses\"][0].keys(); #.keys() #[\"full_text\"]"
   ]
  },
  {
   "cell_type": "code",
   "execution_count": 31,
   "metadata": {},
   "outputs": [],
   "source": [
    "# debugging \n",
    "\n",
    "\n",
    "# dict_keys = list(results[\"statuses\"][0].keys())"
   ]
  },
  {
   "cell_type": "code",
   "execution_count": 46,
   "metadata": {},
   "outputs": [],
   "source": [
    "\n",
    "# for i in dict_keys:\n",
    "#     print(i)\n",
    "#     print(\"\")\n",
    "#     print(results[\"statuses\"][0][i])\n",
    "#     print(\"------------------------------------------------------------------------------------------------------\")"
   ]
  },
  {
   "cell_type": "code",
   "execution_count": 47,
   "metadata": {},
   "outputs": [],
   "source": [
    "# results[\"statuses\"][0][\"user\"]"
   ]
  },
  {
   "cell_type": "code",
   "execution_count": null,
   "metadata": {},
   "outputs": [],
   "source": []
  },
  {
   "cell_type": "code",
   "execution_count": 48,
   "metadata": {},
   "outputs": [
    {
     "data": {
      "text/plain": [
       "'Tue Apr 14 21:18:49 +0000 2020'"
      ]
     },
     "execution_count": 48,
     "metadata": {},
     "output_type": "execute_result"
    }
   ],
   "source": [
    "# change to datetime\n",
    "results[\"statuses\"][0][\"created_at\"]"
   ]
  },
  {
   "cell_type": "code",
   "execution_count": 113,
   "metadata": {},
   "outputs": [],
   "source": [
    "time_stamp = results[\"statuses\"][0][\"created_at\"]"
   ]
  },
  {
   "cell_type": "code",
   "execution_count": 119,
   "metadata": {},
   "outputs": [
    {
     "data": {
      "text/plain": [
       "'2020-04-14 21:18:49+00:00'"
      ]
     },
     "execution_count": 119,
     "metadata": {},
     "output_type": "execute_result"
    }
   ],
   "source": [
    "#ask if want in datetime or str \n",
    "\n",
    "str(datetime.datetime.strptime(time_stamp, '%a %b %d %X %z %Y'))"
   ]
  },
  {
   "cell_type": "code",
   "execution_count": 114,
   "metadata": {},
   "outputs": [],
   "source": [
    "import datetime\n",
    "#import strptime"
   ]
  },
  {
   "cell_type": "code",
   "execution_count": null,
   "metadata": {},
   "outputs": [],
   "source": []
  },
  {
   "cell_type": "code",
   "execution_count": null,
   "metadata": {},
   "outputs": [],
   "source": []
  },
  {
   "cell_type": "code",
   "execution_count": null,
   "metadata": {},
   "outputs": [],
   "source": []
  },
  {
   "cell_type": "code",
   "execution_count": null,
   "metadata": {},
   "outputs": [],
   "source": []
  },
  {
   "cell_type": "code",
   "execution_count": 49,
   "metadata": {},
   "outputs": [
    {
     "data": {
      "text/plain": [
       "1250171676068847617"
      ]
     },
     "execution_count": 49,
     "metadata": {},
     "output_type": "execute_result"
    }
   ],
   "source": [
    "results[\"statuses\"][0][\"id\"]"
   ]
  },
  {
   "cell_type": "code",
   "execution_count": 51,
   "metadata": {
    "scrolled": true
   },
   "outputs": [
    {
     "data": {
      "text/plain": [
       "'1⃣\\nWhy Did Iran’s President Hassan #Rouhani End the Quarantine and Ignore the Catastrophe of #Coronavirus Expansion?\\n#COVID19 @WHO\\n@ForeignOffice @usadarfarsi @StateDept @statedeptspox  @SecPompeo @realDonaldTrump @USUN @mbachelet @javaidRehman @UNHumanRights \\n@GermanyDiplo https://t.co/eD8XKisaek'"
      ]
     },
     "execution_count": 51,
     "metadata": {},
     "output_type": "execute_result"
    }
   ],
   "source": [
    "# clean string\n",
    "results[\"statuses\"][0][\"retweeted_status\"][\"full_text\"]"
   ]
  },
  {
   "cell_type": "code",
   "execution_count": 18,
   "metadata": {},
   "outputs": [
    {
     "data": {
      "text/plain": [
       "4244"
      ]
     },
     "execution_count": 18,
     "metadata": {},
     "output_type": "execute_result"
    }
   ],
   "source": [
    "results[\"statuses\"][0][\"user\"][\"friends_count\"]"
   ]
  },
  {
   "cell_type": "code",
   "execution_count": 19,
   "metadata": {},
   "outputs": [
    {
     "data": {
      "text/plain": [
       "'exhaustartist'"
      ]
     },
     "execution_count": 19,
     "metadata": {},
     "output_type": "execute_result"
    }
   ],
   "source": [
    "results[\"statuses\"][0][\"user\"][\"screen_name\"]"
   ]
  },
  {
   "cell_type": "code",
   "execution_count": null,
   "metadata": {},
   "outputs": [],
   "source": [
    "# results['statuses'][0][\"user\"][\"friends_count\"]\n",
    "# results['statuses'][0][\"user\"][\"screen_name\"] # will be key in Hbase\n",
    "\n",
    "# full_text, created_at as time_stamp datetime format, id, "
   ]
  },
  {
   "cell_type": "code",
   "execution_count": 54,
   "metadata": {},
   "outputs": [],
   "source": [
    "full_tweet = results[\"statuses\"][0][\"retweeted_status\"][\"full_text\"]"
   ]
  },
  {
   "cell_type": "code",
   "execution_count": 57,
   "metadata": {},
   "outputs": [],
   "source": [
    "import re"
   ]
  },
  {
   "cell_type": "code",
   "execution_count": 74,
   "metadata": {},
   "outputs": [
    {
     "data": {
      "text/plain": [
       "'1⃣\\nWhy Did Iran’s President Hassan #Rouhani End the Quarantine and Ignore the Catastrophe of #Coronavirus Expansion?\\n#COVID19 @WHO\\n@ForeignOffice @usadarfarsi @StateDept @statedeptspox  @SecPompeo @realDonaldTrump @USUN @mbachelet @javaidRehman @UNHumanRights \\n@GermanyDiplo https://t.co/eD8XKisaek'"
      ]
     },
     "execution_count": 74,
     "metadata": {},
     "output_type": "execute_result"
    }
   ],
   "source": [
    "full_tweet"
   ]
  },
  {
   "cell_type": "code",
   "execution_count": 72,
   "metadata": {},
   "outputs": [
    {
     "data": {
      "text/plain": [
       "'1 Why Did Iran s President Hassan Rouhani End the Quarantine and Ignore the Catastrophe of Coronavirus Expansion COVID19 WHO ForeignOffice usadarfarsi StateDept statedeptspox SecPompeo realDonaldTrump USUN mbachelet javaidRehman UNHumanRights GermanyDiplo https t co eD8XKisaek'"
      ]
     },
     "execution_count": 72,
     "metadata": {},
     "output_type": "execute_result"
    }
   ],
   "source": [
    "re.sub(\"[\\W_]+\", \" \", full_tweet)  "
   ]
  },
  {
   "cell_type": "code",
   "execution_count": 79,
   "metadata": {},
   "outputs": [
    {
     "data": {
      "text/plain": [
       "'1 Why Did Iran s President Hassan Rouhani End the Quarantine and Ignore the Catastrophe of Coronavirus Expansion COVID19 WHO ForeignOffice usadarfarsi StateDept statedeptspox SecPompeo realDonaldTrump USUN mbachelet javaidRehman UNHumanRights GermanyDiplo https t co eD8XKisaek'"
      ]
     },
     "execution_count": 79,
     "metadata": {},
     "output_type": "execute_result"
    }
   ],
   "source": [
    "re.sub(\"[^\\w]+\", \" \", full_tweet)  "
   ]
  },
  {
   "cell_type": "code",
   "execution_count": 88,
   "metadata": {},
   "outputs": [
    {
     "data": {
      "text/plain": [
       "'1⃣\\nWhy Did Iran’s President Hassan #Rouhani End the Quarantine and Ignore the Catastrophe of #Coronavirus Expansion?\\n#COVID19 @WHO\\n@ForeignOffice @usadarfarsi @StateDept @statedeptspox  @SecPompeo @realDonaldTrump @USUN @mbachelet @javaidRehman @UNHumanRights \\n@GermanyDiplo https://t.co/eD8XKisaek'"
      ]
     },
     "execution_count": 88,
     "metadata": {},
     "output_type": "execute_result"
    }
   ],
   "source": [
    "re.sub(\"[^A-Za-z0-9]+'\", \" \", full_tweet)  \n",
    "\n"
   ]
  },
  {
   "cell_type": "code",
   "execution_count": 82,
   "metadata": {},
   "outputs": [
    {
     "data": {
      "text/plain": [
       "'1 Why Did Iran s President Hassan Rouhani End the Quarantine and Ignore the Catastrophe of Coronavirus Expansion COVID19 WHO ForeignOffice usadarfarsi StateDept statedeptspox SecPompeo realDonaldTrump USUN mbachelet javaidRehman UNHumanRights GermanyDiplo https t co eD8XKisaek'"
      ]
     },
     "execution_count": 82,
     "metadata": {},
     "output_type": "execute_result"
    }
   ],
   "source": [
    "re.sub(\"[^'\\w+'\\w]+\", \" \", full_tweet)  "
   ]
  },
  {
   "cell_type": "code",
   "execution_count": null,
   "metadata": {},
   "outputs": [],
   "source": []
  },
  {
   "cell_type": "code",
   "execution_count": 90,
   "metadata": {},
   "outputs": [],
   "source": [
    "new = re.sub(\"[^A-Za-z0-9]+'\", \" \", full_tweet)  "
   ]
  },
  {
   "cell_type": "code",
   "execution_count": 112,
   "metadata": {},
   "outputs": [
    {
     "data": {
      "text/plain": [
       "'1⃣Why Did Iran’s President Hassan #Rouhani End the Quarantine and Ignore the Catastrophe of #Coronavirus Expansion?#COVID19 @WHO@ForeignOffice @usadarfarsi @StateDept @statedeptspox  @SecPompeo @realDonaldTrump @USUN @mbachelet @javaidRehman @UNHumanRights @GermanyDiplo https://t.co/eD8XKisaek'"
      ]
     },
     "execution_count": 112,
     "metadata": {},
     "output_type": "execute_result"
    }
   ],
   "source": [
    "new.replace(\"\\n\", \"\")"
   ]
  },
  {
   "cell_type": "code",
   "execution_count": null,
   "metadata": {},
   "outputs": [],
   "source": []
  },
  {
   "cell_type": "code",
   "execution_count": null,
   "metadata": {},
   "outputs": [],
   "source": []
  },
  {
   "cell_type": "code",
   "execution_count": null,
   "metadata": {},
   "outputs": [],
   "source": []
  },
  {
   "cell_type": "code",
   "execution_count": null,
   "metadata": {},
   "outputs": [],
   "source": []
  }
 ],
 "metadata": {
  "kernelspec": {
   "display_name": "Python 3",
   "language": "python",
   "name": "python3"
  },
  "language_info": {
   "codemirror_mode": {
    "name": "ipython",
    "version": 3
   },
   "file_extension": ".py",
   "mimetype": "text/x-python",
   "name": "python",
   "nbconvert_exporter": "python",
   "pygments_lexer": "ipython3",
   "version": "3.6.9"
  }
 },
 "nbformat": 4,
 "nbformat_minor": 2
}
